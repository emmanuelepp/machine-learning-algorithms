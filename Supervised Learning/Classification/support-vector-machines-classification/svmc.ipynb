{
 "cells": [
  {
   "cell_type": "markdown",
   "metadata": {},
   "source": [
    "### Suport Vector Machine"
   ]
  },
  {
   "cell_type": "markdown",
   "metadata": {},
   "source": [
    "##### What is Suport Vector Machine\n",
    "\n",
    "A Support Vector Machine (SVM) is a statistical method used to classify data by separating them with a hyperplane. The idea is to find a hyperplane in a multidimensional space that best separates the different classes of data. This hyperplane is then used to classify new data points, determining which side of the hyperplane they fall on and assigning them to the corresponding class"
   ]
  }
 ],
 "metadata": {
  "language_info": {
   "name": "python"
  }
 },
 "nbformat": 4,
 "nbformat_minor": 2
}
